{
 "cells": [
  {
   "cell_type": "markdown",
   "metadata": {},
   "source": [
    "# Финальный проект: выявление фейковых вакансий"
   ]
  },
  {
   "cell_type": "markdown",
   "metadata": {},
   "source": [
    "### Установка библиотек для работы с PySpark"
   ]
  },
  {
   "cell_type": "code",
   "execution_count": 1,
   "metadata": {},
   "outputs": [
    {
     "data": {
      "text/plain": [
       "'C:\\\\Users\\\\Laptop\\\\Downloads\\\\spark-2.4.7-bin-hadoop2.7\\\\spark-2.4.7-bin-hadoop2.7'"
      ]
     },
     "execution_count": 1,
     "metadata": {},
     "output_type": "execute_result"
    }
   ],
   "source": [
    "import findspark\n",
    "findspark.init()\n",
    "findspark.find()"
   ]
  },
  {
   "cell_type": "code",
   "execution_count": 2,
   "metadata": {},
   "outputs": [],
   "source": [
    "import pyspark\n",
    "from pyspark.sql import SparkSession\n",
    "spark = SparkSession.builder.getOrCreate()"
   ]
  },
  {
   "cell_type": "code",
   "execution_count": 3,
   "metadata": {},
   "outputs": [],
   "source": [
    "from pyspark.sql import functions as F\n",
    "from pyspark.sql.types import StructType, StringType, StructField, IntegerType, BooleanType, DoubleType"
   ]
  },
  {
   "cell_type": "markdown",
   "metadata": {},
   "source": [
    "### Описание датасета"
   ]
  },
  {
   "cell_type": "markdown",
   "metadata": {},
   "source": [
    "Датасет взят отсюда: https://www.kaggle.com/amruthjithrajvr/recruitment-scam/\n",
    "\n",
    "В нем содержатся данные о 17880 вакансиях, которые были размещены на сайте Workable(https://www.workable.com/) за период с 2012 по 2014 годы. Они были помечены вручную как фейковые или реальные работниками Workable."
   ]
  },
  {
   "cell_type": "markdown",
   "metadata": {},
   "source": [
    "Структура датасета:\n",
    "- title - название вакансии\n",
    "- location - расположение офиса компании\n",
    "- department - отдел, в котором открыта вакансия\n",
    "- salary_range - зарплата\n",
    "- company_profile - описание компании\n",
    "- description - описание вакансии\n",
    "- requirements - требования\n",
    "- benefits - условия работы\n",
    "- telecommuting - возможность удаленной работы\n",
    "- has_company_logo - присутствует ли логотип компании на сайте\n",
    "- has_questions - присутствуют ли в описании вакансии отсеивающие вопросы\n",
    "- employment_type - тип занятости\n",
    "- required_experience - требуемый опыт\n",
    "- industry - отрасль компании\n",
    "- function - профессиональная область\n",
    "- fraudulent - целевая переменная\n",
    "- in_balanced_dataset - вакансия отобрана для сбалансированного датасета"
   ]
  },
  {
   "cell_type": "code",
   "execution_count": 4,
   "metadata": {},
   "outputs": [],
   "source": [
    "my_schema = StructType([\n",
    "    StructField(name='title', dataType=StringType(), nullable=True),\n",
    "    StructField(name='location', dataType=StringType(), nullable=True),\n",
    "    StructField(name='department', dataType=StringType(), nullable=True),\n",
    "    StructField(name='salary_range', dataType=StringType(), nullable=True),\n",
    "    StructField(name='company_profile', dataType=StringType(), nullable=True),\n",
    "    StructField(name='description', dataType=StringType(), nullable=True),\n",
    "    StructField(name='requirements', dataType=StringType(), nullable=True),\n",
    "    StructField(name='benefits', dataType=StringType(), nullable=True),\n",
    "    StructField(name='telecommuting', dataType=StringType(), nullable=True),\n",
    "    StructField(name='has_company_logo', dataType=StringType(), nullable=True),\n",
    "    StructField(name='has_questions', dataType=StringType(), nullable=True),\n",
    "    StructField(name='employment_type', dataType=StringType(), nullable=True),\n",
    "    StructField(name='required_experience', dataType=StringType(), nullable=True),\n",
    "    StructField(name='required_education', dataType=StringType(), nullable=True),\n",
    "    StructField(name='industry', dataType=StringType(), nullable=True),\n",
    "    StructField(name='function', dataType=StringType(), nullable=True),\n",
    "    StructField(name='fraudulent', dataType=StringType(), nullable=True),\n",
    "    StructField(name='in_balanced_dataset', dataType=StringType(), nullable=True)])\n"
   ]
  },
  {
   "cell_type": "code",
   "execution_count": 5,
   "metadata": {},
   "outputs": [],
   "source": [
    "data = spark \\\n",
    "    .read \\\n",
    "    .format(\"csv\") \\\n",
    "    .schema(my_schema) \\\n",
    "    .options(path=\"DataSet.csv\", header=True,multiline = True,escape='\"') \\\n",
    "    .load()"
   ]
  },
  {
   "cell_type": "code",
   "execution_count": 6,
   "metadata": {},
   "outputs": [
    {
     "name": "stdout",
     "output_type": "stream",
     "text": [
      "root\n",
      " |-- title: string (nullable = true)\n",
      " |-- location: string (nullable = true)\n",
      " |-- department: string (nullable = true)\n",
      " |-- salary_range: string (nullable = true)\n",
      " |-- company_profile: string (nullable = true)\n",
      " |-- description: string (nullable = true)\n",
      " |-- requirements: string (nullable = true)\n",
      " |-- benefits: string (nullable = true)\n",
      " |-- telecommuting: string (nullable = true)\n",
      " |-- has_company_logo: string (nullable = true)\n",
      " |-- has_questions: string (nullable = true)\n",
      " |-- employment_type: string (nullable = true)\n",
      " |-- required_experience: string (nullable = true)\n",
      " |-- required_education: string (nullable = true)\n",
      " |-- industry: string (nullable = true)\n",
      " |-- function: string (nullable = true)\n",
      " |-- fraudulent: string (nullable = true)\n",
      " |-- in_balanced_dataset: string (nullable = true)\n",
      "\n"
     ]
    }
   ],
   "source": [
    "data.printSchema()"
   ]
  },
  {
   "cell_type": "code",
   "execution_count": 7,
   "metadata": {},
   "outputs": [
    {
     "name": "stdout",
     "output_type": "stream",
     "text": [
      "+--------------------+----------------+----------+------------+--------------------+--------------------+--------------------+--------------------+-------------+----------------+-------------+---------------+-------------------+------------------+--------------------+----------------+----------+-------------------+\n",
      "|               title|        location|department|salary_range|     company_profile|         description|        requirements|            benefits|telecommuting|has_company_logo|has_questions|employment_type|required_experience|required_education|            industry|        function|fraudulent|in_balanced_dataset|\n",
      "+--------------------+----------------+----------+------------+--------------------+--------------------+--------------------+--------------------+-------------+----------------+-------------+---------------+-------------------+------------------+--------------------+----------------+----------+-------------------+\n",
      "|    Marketing Intern|US, NY, New York| Marketing|        null|<h3>We're Food52,...|<p>Food52, a fast...|<ul>\n",
      "<li>Experien...|                null|            f|               t|            f|          Other|         Internship|              null|                null|       Marketing|         f|                  f|\n",
      "|Customer Service ...|  NZ, , Auckland|   Success|        null|<h3>90 Seconds, t...|<p>Organised - Fo...|<p><b>What we exp...|<h3><b>What you w...|            f|               t|            f|      Full-time|     Not Applicable|              null|Marketing and Adv...|Customer Service|         f|                  f|\n",
      "+--------------------+----------------+----------+------------+--------------------+--------------------+--------------------+--------------------+-------------+----------------+-------------+---------------+-------------------+------------------+--------------------+----------------+----------+-------------------+\n",
      "only showing top 2 rows\n",
      "\n"
     ]
    }
   ],
   "source": [
    "data.show(2)"
   ]
  },
  {
   "cell_type": "code",
   "execution_count": 8,
   "metadata": {},
   "outputs": [
    {
     "name": "stdout",
     "output_type": "stream",
     "text": [
      "(17880, 18)\n"
     ]
    }
   ],
   "source": [
    "print((data.count(), len(data.columns)))"
   ]
  },
  {
   "cell_type": "code",
   "execution_count": 9,
   "metadata": {},
   "outputs": [
    {
     "name": "stdout",
     "output_type": "stream",
     "text": [
      "866\n",
      "17014\n"
     ]
    }
   ],
   "source": [
    "print(data.where(data['fraudulent'] == \"t\").count())\n",
    "print(data.where(data['fraudulent'] == \"f\").count())"
   ]
  },
  {
   "cell_type": "markdown",
   "metadata": {},
   "source": [
    "Датасет несбалансирован, в нем содержатся 17014 реальных вакансий и 866 фейковых."
   ]
  },
  {
   "cell_type": "markdown",
   "metadata": {},
   "source": [
    "Поскольку я намереваюсь использовать весь датасет, то от столбца in_balanced_dataset можно избавиться"
   ]
  },
  {
   "cell_type": "code",
   "execution_count": 10,
   "metadata": {},
   "outputs": [],
   "source": [
    "data = data.drop(\"in_balanced_dataset\")"
   ]
  },
  {
   "cell_type": "code",
   "execution_count": 11,
   "metadata": {},
   "outputs": [
    {
     "name": "stdout",
     "output_type": "stream",
     "text": [
      "title unique values:  11231\n",
      "location unique values:  3106\n",
      "department unique values:  1338\n",
      "salary_range unique values:  875\n",
      "company_profile unique values:  1711\n",
      "description unique values:  15095\n",
      "requirements unique values:  12120\n",
      "benefits unique values:  6511\n",
      "telecommuting unique values:  2\n",
      "has_company_logo unique values:  2\n",
      "has_questions unique values:  2\n",
      "employment_type unique values:  6\n",
      "required_experience unique values:  8\n",
      "required_education unique values:  14\n",
      "industry unique values:  132\n",
      "function unique values:  38\n",
      "fraudulent unique values:  2\n"
     ]
    }
   ],
   "source": [
    "for col in data.columns:\n",
    "    print(col, \"unique values: \", data.select([col]).distinct().count())"
   ]
  },
  {
   "cell_type": "code",
   "execution_count": 12,
   "metadata": {},
   "outputs": [
    {
     "name": "stdout",
     "output_type": "stream",
     "text": [
      "title with null values:  0\n",
      "location with null values:  346\n",
      "department with null values:  11547\n",
      "salary_range with null values:  15012\n",
      "company_profile with null values:  3308\n",
      "description with null values:  0\n",
      "requirements with null values:  2689\n",
      "benefits with null values:  7196\n",
      "telecommuting with null values:  0\n",
      "has_company_logo with null values:  0\n",
      "has_questions with null values:  0\n",
      "employment_type with null values:  3471\n",
      "required_experience with null values:  7050\n",
      "required_education with null values:  8105\n",
      "industry with null values:  4903\n",
      "function with null values:  6455\n",
      "fraudulent with null values:  0\n"
     ]
    }
   ],
   "source": [
    "for col in data.columns:\n",
    "    print(col, \"with null values: \", data.filter(data[col].isNull()).count())"
   ]
  },
  {
   "cell_type": "code",
   "execution_count": 13,
   "metadata": {},
   "outputs": [],
   "source": [
    "data = data.na.fill(value=\"\",subset=[\"location\", \"department\",\"company_profile\",\"description\",\"requirements\",\"benefits\",\n",
    "                                    \"employment_type\",\"required_experience\",\"required_education\",\n",
    "                                   \"industry\",\"function\"])"
   ]
  },
  {
   "cell_type": "code",
   "execution_count": 14,
   "metadata": {},
   "outputs": [],
   "source": [
    "data = data.withColumn('full_description', F.concat_ws(\" \", F.col('location'), F.col('department'), F.col('company_profile'), \n",
    "                       F.col('description'), F.col('requirements'),F.col('benefits'), F.col('employment_type'), \n",
    "                       F.col('required_experience'), F.col('required_education'), F.col('industry'), F.col('function')))"
   ]
  },
  {
   "cell_type": "code",
   "execution_count": 15,
   "metadata": {},
   "outputs": [
    {
     "name": "stdout",
     "output_type": "stream",
     "text": [
      "+--------------------+----------------+----------+------------+--------------------+--------------------+--------------------+--------------------+-------------+----------------+-------------+---------------+-------------------+------------------+--------------------+----------------+----------+--------------------+\n",
      "|               title|        location|department|salary_range|     company_profile|         description|        requirements|            benefits|telecommuting|has_company_logo|has_questions|employment_type|required_experience|required_education|            industry|        function|fraudulent|    full_description|\n",
      "+--------------------+----------------+----------+------------+--------------------+--------------------+--------------------+--------------------+-------------+----------------+-------------+---------------+-------------------+------------------+--------------------+----------------+----------+--------------------+\n",
      "|    Marketing Intern|US, NY, New York| Marketing|        null|<h3>We're Food52,...|<p>Food52, a fast...|<ul>\n",
      "<li>Experien...|                    |            f|               t|            f|          Other|         Internship|                  |                    |       Marketing|         f|US, NY, New York ...|\n",
      "|Customer Service ...|  NZ, , Auckland|   Success|        null|<h3>90 Seconds, t...|<p>Organised - Fo...|<p><b>What we exp...|<h3><b>What you w...|            f|               t|            f|      Full-time|     Not Applicable|                  |Marketing and Adv...|Customer Service|         f|NZ, , Auckland Su...|\n",
      "+--------------------+----------------+----------+------------+--------------------+--------------------+--------------------+--------------------+-------------+----------------+-------------+---------------+-------------------+------------------+--------------------+----------------+----------+--------------------+\n",
      "only showing top 2 rows\n",
      "\n"
     ]
    }
   ],
   "source": [
    "data.show(2)"
   ]
  },
  {
   "cell_type": "code",
   "execution_count": 16,
   "metadata": {},
   "outputs": [
    {
     "name": "stdout",
     "output_type": "stream",
     "text": [
      "root\n",
      " |-- title: string (nullable = true)\n",
      " |-- location: string (nullable = false)\n",
      " |-- department: string (nullable = false)\n",
      " |-- salary_range: string (nullable = true)\n",
      " |-- company_profile: string (nullable = false)\n",
      " |-- description: string (nullable = false)\n",
      " |-- requirements: string (nullable = false)\n",
      " |-- benefits: string (nullable = false)\n",
      " |-- telecommuting: string (nullable = true)\n",
      " |-- has_company_logo: string (nullable = true)\n",
      " |-- has_questions: string (nullable = true)\n",
      " |-- employment_type: string (nullable = false)\n",
      " |-- required_experience: string (nullable = false)\n",
      " |-- required_education: string (nullable = false)\n",
      " |-- industry: string (nullable = false)\n",
      " |-- function: string (nullable = false)\n",
      " |-- fraudulent: string (nullable = true)\n",
      " |-- full_description: string (nullable = false)\n",
      "\n"
     ]
    }
   ],
   "source": [
    "data.printSchema()"
   ]
  },
  {
   "cell_type": "code",
   "execution_count": 20,
   "metadata": {},
   "outputs": [],
   "source": [
    "new_data = data.drop(\"location\",\"department\",\"company_profile\",\"salary_range\",\"description\",\"requirements\",\"benefits\",\n",
    "                                    \"employment_type\",\"required_experience\",\"required_education\",\n",
    "                                   \"industry\",\"function\")"
   ]
  },
  {
   "cell_type": "code",
   "execution_count": 21,
   "metadata": {},
   "outputs": [
    {
     "name": "stdout",
     "output_type": "stream",
     "text": [
      "+--------------------+-------------+----------------+-------------+----------+--------------------+\n",
      "|               title|telecommuting|has_company_logo|has_questions|fraudulent|    full_description|\n",
      "+--------------------+-------------+----------------+-------------+----------+--------------------+\n",
      "|    Marketing Intern|            f|               t|            f|         f|US, NY, New York ...|\n",
      "|Customer Service ...|            f|               t|            f|         f|NZ, , Auckland Su...|\n",
      "|Commissioning Mac...|            f|               t|            f|         f|US, IA, Wever  <h...|\n",
      "|Account Executive...|            f|               t|            f|         f|US, DC, Washingto...|\n",
      "| Bill Review Manager|            f|               t|            t|         f|US, FL, Fort Wort...|\n",
      "|    Accounting Clerk|            f|               f|            f|         f|US, MD,    <p><b>...|\n",
      "|Head of Content (...|            f|               t|            t|         f|DE, BE, Berlin AN...|\n",
      "|Lead Guest Servic...|            f|               t|            t|         f|US, CA, San Franc...|\n",
      "|          HP BSM SME|            f|               t|            t|         f|US, FL, Pensacola...|\n",
      "|Customer Service ...|            f|               t|            f|         f|US, AZ, Phoenix  ...|\n",
      "|ASP.net Developer...|            f|               f|            f|         f|US, NJ, Jersey Ci...|\n",
      "|Talent Sourcer (6...|            f|               t|            f|         f|GB, LND, London H...|\n",
      "|Applications Deve...|            f|               t|            f|         f|US, CT, Stamford ...|\n",
      "|          Installers|            f|               t|            t|         f|US, FL, Orlando  ...|\n",
      "|Account Executive...|            f|               t|            f|         f|AU, NSW, Sydney S...|\n",
      "|VP of Sales - Vau...|            f|               t|            t|         f|SG, 01, Singapore...|\n",
      "| Hands-On QA Leader |            f|               t|            f|         f|IL, , Tel Aviv, I...|\n",
      "|Southend-on-Sea T...|            f|               t|            t|         f|GB, SOS, Southend...|\n",
      "|     Visual Designer|            f|               t|            f|         f|US, NY, New York ...|\n",
      "|Process Controls ...|            f|               f|            f|         f|US, PA, USA North...|\n",
      "+--------------------+-------------+----------------+-------------+----------+--------------------+\n",
      "only showing top 20 rows\n",
      "\n"
     ]
    }
   ],
   "source": [
    "new_data.show()"
   ]
  },
  {
   "cell_type": "code",
   "execution_count": 22,
   "metadata": {},
   "outputs": [],
   "source": [
    "new_data.write.mode('overwrite').options(header='True', delimiter=',').csv(\"DataSet\")"
   ]
  }
 ],
 "metadata": {
  "kernelspec": {
   "display_name": "Python 3",
   "language": "python",
   "name": "python3"
  },
  "language_info": {
   "codemirror_mode": {
    "name": "ipython",
    "version": 3
   },
   "file_extension": ".py",
   "mimetype": "text/x-python",
   "name": "python",
   "nbconvert_exporter": "python",
   "pygments_lexer": "ipython3",
   "version": "3.7.3"
  }
 },
 "nbformat": 4,
 "nbformat_minor": 2
}
